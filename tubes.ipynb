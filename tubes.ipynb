{
 "cells": [
  {
   "cell_type": "code",
   "execution_count": null,
   "metadata": {
    "vscode": {
     "languageId": "plaintext"
    }
   },
   "outputs": [],
   "source": [
    "# 1. Install package\n",
    "!pip install ucimlrepo scikit-fuzzy"
   ]
  },
  {
   "cell_type": "code",
   "execution_count": null,
   "metadata": {
    "vscode": {
     "languageId": "plaintext"
    }
   },
   "outputs": [],
   "source": [
    "import numpy as np\n",
    "import pandas as pd\n",
    "from ucimlrepo import fetch_ucirepo\n",
    "import matplotlib.pyplot as plt\n",
    "import skfuzzy as fuzz\n",
    "from skfuzzy import control as ctrl"
   ]
  },
  {
   "cell_type": "code",
   "execution_count": null,
   "metadata": {
    "vscode": {
     "languageId": "plaintext"
    }
   },
   "outputs": [],
   "source": [
    "# 2. Fungsi custom split\n",
    "def custom_split(X, y, test_size=0.2, random_state=None):\n",
    "    if random_state is not None:\n",
    "        np.random.seed(random_state)\n",
    "    num_samples = len(X)\n",
    "    indices = np.arange(num_samples)\n",
    "    np.random.shuffle(indices)\n",
    "    num_test_samples = int(num_samples * test_size)\n",
    "    test_indices = indices[:num_test_samples]\n",
    "    train_indices = indices[num_test_samples:]\n",
    "    return X[train_indices], X[test_indices], y[train_indices], y[test_indices]"
   ]
  },
  {
   "cell_type": "code",
   "execution_count": null,
   "metadata": {
    "vscode": {
     "languageId": "plaintext"
    }
   },
   "outputs": [],
   "source": [
    "# 3. Min-max scaler\n",
    "def min_max_scaler(data):\n",
    "    min_val = np.min(data)\n",
    "    max_val = np.max(data)\n",
    "    scaled_data = [(x - min_val) / (max_val - min_val) for x in data]\n",
    "    return np.array(scaled_data)"
   ]
  },
  {
   "cell_type": "code",
   "execution_count": null,
   "metadata": {
    "vscode": {
     "languageId": "plaintext"
    }
   },
   "outputs": [],
   "source": [
    "# 4. Ambil dataset abalone\n",
    "abalone = fetch_ucirepo(id=1)\n",
    "X = abalone.data.features\n",
    "y = abalone.data.targets\n",
    "\n",
    "# Tampilkan metadata dan variabel\n",
    "print(abalone.metadata)\n",
    "print(abalone.variables)\n",
    "\n",
    "# One-hot encoding pada kolom 'Sex'\n",
    "encoded = pd.get_dummies(X['Sex'], prefix='Sex')\n",
    "X = pd.concat([X, encoded], axis=1)\n",
    "X.drop(\"Sex\", axis=1, inplace=True)\n",
    "\n",
    "# Konversi ke numpy array\n",
    "X = X.values\n",
    "y = y.values\n",
    "\n",
    "# Split data\n",
    "X_train, X_test, y_train, y_test = custom_split(X, y, test_size=0.2, random_state=42)\n",
    "\n",
    "# Scaling data\n",
    "X_train_scaled = min_max_scaler(X_train)\n",
    "X_test_scaled = min_max_scaler(X_test)"
   ]
  },
  {
   "cell_type": "code",
   "execution_count": null,
   "metadata": {
    "vscode": {
     "languageId": "plaintext"
    }
   },
   "outputs": [],
   "source": [
    "# 5. Visualisasi Boxplot untuk fitur kontinyu\n",
    "features_plot = abalone.data.features\n",
    "features_plot.drop(\"Sex\", axis=1).boxplot(figsize=(12, 8))\n",
    "plt.title('Boxplots of Continuous Features')\n",
    "plt.xlabel('Features')\n",
    "plt.ylabel('Value')\n",
    "plt.show()"
   ]
  },
  {
   "cell_type": "code",
   "execution_count": null,
   "metadata": {
    "vscode": {
     "languageId": "plaintext"
    }
   },
   "outputs": [],
   "source": [
    "# 6. Fuzzy Sugeno System\n",
    "diameter = ctrl.Antecedent(np.arange(0, 1.01, 0.01), 'diameter')\n",
    "whole_weight = ctrl.Antecedent(np.arange(0, 1.01, 0.01), 'whole_weight')\n",
    "adjustment = ctrl.Consequent(np.arange(-2, 2.1, 0.1), 'adjustment')\n",
    "\n",
    "diameter.automf(3)  # poor, average, good\n",
    "whole_weight.automf(3)\n",
    "adjustment['decrease'] = fuzz.trimf(adjustment.universe, [-2, -1, 0])\n",
    "adjustment['none'] = fuzz.trimf(adjustment.universe, [-0.5, 0, 0.5])\n",
    "adjustment['increase'] = fuzz.trimf(adjustment.universe, [0, 1, 2])\n",
    "\n",
    "rule1 = ctrl.Rule(diameter['poor'] | whole_weight['poor'], adjustment['decrease'])\n",
    "rule2 = ctrl.Rule(diameter['average'] & whole_weight['average'], adjustment['none'])\n",
    "rule3 = ctrl.Rule(diameter['good'] | whole_weight['good'], adjustment['increase'])\n",
    "\n",
    "adjustment_ctrl = ctrl.ControlSystem([rule1, rule2, rule3])\n",
    "adjustment_simulator = ctrl.ControlSystemSimulation(adjustment_ctrl)"
   ]
  },
  {
   "cell_type": "code",
   "execution_count": null,
   "metadata": {
    "vscode": {
     "languageId": "plaintext"
    }
   },
   "outputs": [],
   "source": [
    "# 7. KNN functions\n",
    "def compute_distances(X_train, x):\n",
    "    X_train = np.array(X_train, dtype=float)\n",
    "    x = np.array(x, dtype=float)\n",
    "    distances = np.sqrt(np.sum((X_train - x)**2, axis=1))\n",
    "    return distances\n",
    "\n",
    "def predict_single_instance(X_train, y_train, x, k):\n",
    "    distances = compute_distances(X_train, x)\n",
    "    k_indices = np.argsort(distances)[:k]\n",
    "    k_nearest_targets = y_train[k_indices]\n",
    "    return np.mean(k_nearest_targets)\n",
    "\n",
    "def predict(X_train, y_train, X_test, k):\n",
    "    predictions = []\n",
    "    for i in range(y_train.shape[1]):\n",
    "        y_train_column = y_train[:, i]\n",
    "        y_pred_column = []\n",
    "\n",
    "        for x in X_test:\n",
    "            pred = predict_single_instance(X_train, y_train_column, x, k)\n",
    "            # Koreksi menggunakan fuzzy\n",
    "            adjustment_simulator.input['diameter'] = x[1]  # indeks ke-1 = Diameter\n",
    "            adjustment_simulator.input['whole_weight'] = x[4]  # indeks ke-4 = Whole Weight\n",
    "            adjustment_simulator.compute()\n",
    "            correction = adjustment_simulator.output['adjustment']\n",
    "            y_pred_column.append(pred + correction)\n",
    "\n",
    "        predictions.append(np.array(y_pred_column))\n",
    "\n",
    "    return np.array(predictions).T\n",
    "\n",
    "def r2(y_true, y_pred):\n",
    "    mean_true = np.mean(y_true)\n",
    "    ss_total = np.sum((y_true - mean_true)**2)\n",
    "    ss_residual = np.sum((y_true - y_pred)**2)\n",
    "    r2 = 1 - (ss_residual / ss_total)\n",
    "    return r2"
   ]
  },
  {
   "cell_type": "code",
   "execution_count": null,
   "metadata": {
    "vscode": {
     "languageId": "plaintext"
    }
   },
   "outputs": [],
   "source": [
    "# 8. Evaluasi untuk setiap nilai k\n",
    "k_list = [x for x in range(1, 20)]\n",
    "r2_list = []\n",
    "\n",
    "for k in k_list:\n",
    "    y_pred = predict(X_train_scaled, y_train, X_test_scaled, k)\n",
    "    r2_list.append(r2(y_test, y_pred))"
   ]
  },
  {
   "cell_type": "code",
   "execution_count": null,
   "metadata": {
    "vscode": {
     "languageId": "plaintext"
    }
   },
   "outputs": [],
   "source": [
    "# 9. Cari nilai k terbaik\n",
    "best_k = None\n",
    "best_r2 = -float('inf')\n",
    "for k, r2_val in zip(k_list, r2_list):\n",
    "    if r2_val > best_r2:\n",
    "        best_k = k\n",
    "        best_r2 = r2_val\n",
    "\n",
    "print(f\"Best k: {best_k}\")\n",
    "print(f\"Best R² score: {best_r2}\")"
   ]
  },
  {
   "cell_type": "code",
   "execution_count": null,
   "metadata": {
    "vscode": {
     "languageId": "plaintext"
    }
   },
   "outputs": [],
   "source": [
    "# 10. Visualisasi nilai k vs R-squared\n",
    "plt.plot(k_list, r2_list)\n",
    "plt.xlabel(\"Nilai K\")\n",
    "plt.ylabel(\"R-squared (R2)\")\n",
    "plt.title(\"Perbandingan Nilai K terhadap R-squared\")\n",
    "plt.grid(True)\n",
    "\n",
    "for k, r2_val in zip(k_list, r2_list):\n",
    "    plt.annotate(f'{r2_val:.3f}', (k, r2_val), textcoords=\"offset points\", xytext=(0, 1), ha='center', fontsize=6)\n",
    "\n",
    "max_r2_index = r2_list.index(max(r2_list))\n",
    "plt.scatter(k_list[max_r2_index], r2_list[max_r2_index], color='red', zorder=5)\n",
    "plt.show()"
   ]
  }
 ],
 "metadata": {
  "language_info": {
   "name": "python"
  }
 },
 "nbformat": 4,
 "nbformat_minor": 2
}
